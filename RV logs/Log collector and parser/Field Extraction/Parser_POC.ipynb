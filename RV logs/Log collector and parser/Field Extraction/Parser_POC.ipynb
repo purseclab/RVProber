{
 "cells": [
  {
   "cell_type": "code",
   "execution_count": 2,
   "id": "e7fb8298",
   "metadata": {},
   "outputs": [],
   "source": [
    "from pyulog import *\n",
    "from pyulog.px4 import *\n",
    "from html import escape\n",
    "import sqlite3\n",
    "from IPython.core.display import display, HTML\n",
    "import px4tools\n",
    "from bs4 import BeautifulSoup as soup\n",
    "from urllib.parse import urlparse, parse_qs\n",
    "import os\n",
    "from tqdm import tqdm\n",
    "import pandas as pd\n",
    "import matplotlib.pyplot as plt\n",
    "\n",
    "# importing sys\n",
    "import sys\n",
    " \n",
    "# adding FlightReview module to the system path\n",
    "sys.path.insert(0, '../../flight_review/app/plot_app')\n",
    "\n",
    "from helper import *\n",
    "from db_entry import *\n",
    "from configured_plots import generate_plots\n",
    "from plotted_tables import *\n",
    "from config_tables import *\n",
    "\n",
    "BULK_PROCESS = False"
   ]
  },
  {
   "cell_type": "code",
   "execution_count": 3,
   "id": "8515bc06",
   "metadata": {},
   "outputs": [],
   "source": [
    "# Helper methods\n",
    "def read_ulg_data_as_df(file_name):\n",
    "    data = None\n",
    "    try:\n",
    "        data = px4tools.read_ulog(file_name)\n",
    "    except:\n",
    "        None\n",
    "    return data\n",
    "\n",
    "def print_ulog_info(ulog):\n",
    "    print('System: {:}'.format(ulog.msg_info_dict['sys_name']))\n",
    "    if 'ver_hw' in ulog.msg_info_dict:\n",
    "        print('Hardware: {:}'.format(ulog.msg_info_dict['ver_hw']))\n",
    "    if 'ver_sw' in ulog.msg_info_dict:\n",
    "        print('Software Version: {:}'.format(ulog.msg_info_dict['ver_sw']))\n",
    "    # dropouts\n",
    "    dropout_durations = [ dropout.duration for dropout in ulog.dropouts]\n",
    "    if len(dropout_durations) > 0:\n",
    "        total_duration = sum(dropout_durations) / 1000\n",
    "        if total_duration > 5:\n",
    "            total_duration_str = '{:.0f}'.format(total_duration)\n",
    "        else:\n",
    "            total_duration_str = '{:.2f}'.format(total_duration)\n",
    "        print('Dropouts: {:} ({:} s)'.format(\n",
    "            len(dropout_durations), total_duration_str))\n",
    "\n",
    "    # logging duration\n",
    "    m, s = divmod(int((ulog.last_timestamp - ulog.start_timestamp)/1e6), 60)\n",
    "    h, m = divmod(m, 60)\n",
    "    print('Logging duration: {:d}:{:02d}:{:02d}'.format( h, m, s))\n"
   ]
  },
  {
   "cell_type": "code",
   "execution_count": 35,
   "id": "0e89d9d7",
   "metadata": {},
   "outputs": [],
   "source": [
    "# What the website actually plots\n",
    "file_name = 'C:\\\\Users\\\\rwita\\\\Downloads\\\\87c1ccca-a4f4-4da0-94a1-a0ade11eded9.ulg'\n",
    "\n",
    "ulog = ULog(file_name)\n",
    "data = ulog.data_list\n",
    "px4_ulog = PX4ULog(ulog)\n",
    "px4_ulog.add_roll_pitch_yaw()\n",
    "use_downsample = False\n",
    "title = 'Flight Review - ' + px4_ulog.get_mav_type()\n",
    "\n",
    "db_data = DBData()\n",
    "vehicle_data = None"
   ]
  },
  {
   "cell_type": "code",
   "execution_count": null,
   "id": "210c4150",
   "metadata": {},
   "outputs": [],
   "source": [
    "print(\"message names: {:}\".format(sorted([d.name for d in data])))\n",
    "print()\n",
    "print_ulog_info(ulog)"
   ]
  },
  {
   "cell_type": "code",
   "execution_count": null,
   "id": "723bc79e",
   "metadata": {},
   "outputs": [],
   "source": [
    "info = {}\n",
    "if ulog is not None:\n",
    "    px4_ulog = PX4ULog(ulog)\n",
    "    info['type'] = px4_ulog.get_mav_type()\n",
    "    airframe_name_tuple = get_airframe_name(ulog)\n",
    "    if airframe_name_tuple is not None:\n",
    "        airframe_name, airframe_id = airframe_name_tuple\n",
    "        if len(airframe_name) == 0:\n",
    "            info['airframe'] = airframe_id\n",
    "        else:\n",
    "            info['airframe'] = airframe_name\n",
    "    sys_hardware = ''\n",
    "    if 'ver_hw' in ulog.msg_info_dict:\n",
    "        sys_hardware = escape(ulog.msg_info_dict['ver_hw'])\n",
    "        info['hardware'] = sys_hardware\n",
    "    if 'sys_uuid' in ulog.msg_info_dict and sys_hardware != 'SITL':\n",
    "        info['uuid'] = escape(ulog.msg_info_dict['sys_uuid'])\n",
    "    branch_info = ''\n",
    "    if 'ver_sw_branch' in ulog.msg_info_dict:\n",
    "        branch_info = ' (branch: '+ulog.msg_info_dict['ver_sw_branch']+')'\n",
    "    if 'ver_sw' in ulog.msg_info_dict:\n",
    "        ver_sw = escape(ulog.msg_info_dict['ver_sw'])\n",
    "        info['software'] = ver_sw + branch_info\n",
    "        \n",
    "info"
   ]
  },
  {
   "cell_type": "code",
   "execution_count": null,
   "id": "d0abca1a",
   "metadata": {
    "scrolled": false
   },
   "outputs": [],
   "source": [
    "plots = generate_plots(ulog, px4_ulog, db_data, vehicle_data, \"\", \"\")"
   ]
  },
  {
   "cell_type": "code",
   "execution_count": null,
   "id": "f1e333f7",
   "metadata": {},
   "outputs": [],
   "source": [
    "tables = get_info_table_html(ulog, px4_ulog, db_data, vehicle_data, None)"
   ]
  },
  {
   "cell_type": "code",
   "execution_count": null,
   "id": "19455272",
   "metadata": {},
   "outputs": [],
   "source": [
    "display(HTML(tables[0]))"
   ]
  },
  {
   "cell_type": "code",
   "execution_count": null,
   "id": "5ecb4a78",
   "metadata": {},
   "outputs": [],
   "source": [
    "data = read_ulg_data_as_df(file_name)\n",
    "messages = data.keys()\n",
    "rc_messages = list(filter(lambda key: \"input_rc\" in key, messages))"
   ]
  },
  {
   "cell_type": "code",
   "execution_count": null,
   "id": "3df786c3",
   "metadata": {
    "scrolled": false
   },
   "outputs": [],
   "source": [
    "list(messages)"
   ]
  },
  {
   "cell_type": "code",
   "execution_count": null,
   "id": "6d3518e6",
   "metadata": {},
   "outputs": [],
   "source": [
    "data['t_manual_control_switches_0']"
   ]
  },
  {
   "cell_type": "code",
   "execution_count": null,
   "id": "7fdb5f4e",
   "metadata": {},
   "outputs": [],
   "source": [
    "# test.msg_info_dict\n",
    "# test.msg_info_multiple_dict\n",
    "# test.initial_parameters\n",
    "# test.logged_messages\n",
    "# get_total_flight_time(ulog)"
   ]
  },
  {
   "cell_type": "code",
   "execution_count": null,
   "id": "313848b4",
   "metadata": {},
   "outputs": [],
   "source": [
    "# Gathering one row worth of data\n",
    "def get_row_of_data(log_link, ulog):\n",
    "    row_data = {}\n",
    "    row_data['link'] = log_link\n",
    "    \n",
    "    px4_ulog = PX4ULog(ulog)\n",
    "        \n",
    "    # GPS Present\n",
    "    try:        \n",
    "        gps_data = ulog.get_dataset('vehicle_gps_position')\n",
    "        row_data['gps_data'] = \"Yes\"\n",
    "    except:\n",
    "        row_data['gps_data'] = \"No\"\n",
    "        \n",
    "    # Airframe\n",
    "    row_data['airframe_type'] = px4_ulog.get_mav_type()\n",
    "    row_data['airframe_name'] = get_airframe_name(ulog)[0]\n",
    "    \n",
    "    # Hardware\n",
    "    row_data['hardware'] = ulog.msg_info_dict['ver_hw']\n",
    "    \n",
    "    # Software\n",
    "    branch_info = ''\n",
    "    if 'ver_sw_branch' in ulog.msg_info_dict:\n",
    "        branch_info = ' (branch: ' + ulog.msg_info_dict['ver_sw_branch']+')'\n",
    "    if 'ver_sw' in ulog.msg_info_dict:\n",
    "        ver_sw = escape(ulog.msg_info_dict['ver_sw'])\n",
    "        row_data['software'] = ver_sw + branch_info\n",
    "        \n",
    "    # Flight Duration        \n",
    "    m, s = divmod(int((ulog.last_timestamp - ulog.start_timestamp)/1e6), 60)\n",
    "    h, m = divmod(m, 60)\n",
    "    row_data['flight_duration'] = '{:d}:{:02d}:{:02d}'.format(h, m, s)\n",
    "    \n",
    "    # Logging Start Time\n",
    "    try:\n",
    "        # get the first non-zero timestamp\n",
    "        gps_data = ulog.get_dataset('vehicle_gps_position')\n",
    "        indices = np.nonzero(gps_data.data['time_utc_usec'])\n",
    "        if len(indices[0]) > 0:\n",
    "            # we use the timestamp from the log and then convert it with JS to\n",
    "            # display with local timezone.\n",
    "            # In addition we add a tooltip to show the timezone from the log\n",
    "            logging_start_time = int(gps_data.data['time_utc_usec'][indices[0][0]] / 1000000)\n",
    "\n",
    "            utc_offset_min = ulog.initial_parameters.get('SDLOG_UTC_OFFSET', 0)\n",
    "            utctimestamp = datetime.datetime.utcfromtimestamp(\n",
    "                logging_start_time+utc_offset_min*60).replace(tzinfo=datetime.timezone.utc)\n",
    "\n",
    "            row_data['start_time'] = str(utctimestamp.strftime('%d-%m-%Y %H:%M'))\n",
    "    except:\n",
    "        # Ignore. Eg. if topic not found\n",
    "        pass\n",
    "        \n",
    "    # Flight Modes\n",
    "    flight_mode_changes = get_flight_mode_changes(ulog)\n",
    "    flight_mode_changes = filter(lambda elem: elem[1] != -1, flight_mode_changes)\n",
    "    flight_mode_names = map(lambda elem: flight_modes_table[elem[1]][0], flight_mode_changes)\n",
    "    row_data['flight_modes'] = list(set(flight_mode_names))\n",
    "        \n",
    "    # Altitude Information\n",
    "    local_pos = ulog.get_dataset('vehicle_local_position')\n",
    "    pos_z = local_pos.data['z']\n",
    "    row_data['altitude_min'] = np.amin(pos_z)\n",
    "    row_data['altitude_max'] = np.amax(pos_z)\n",
    "    row_data['altitude_avg'] = np.mean(pos_z)\n",
    "    \n",
    "    # Parameters\n",
    "    row_data['parameters'] = ulog.initial_parameters\n",
    "    \n",
    "    # Terrain Following\n",
    "    if row_data['parameters']['MPC_ALT_MODE'] in [1, 2]:\n",
    "        row_data['terrain_following'] = \"Yes\"\n",
    "    else:\n",
    "        row_data['terrain_following'] = \"No\"\n",
    "        \n",
    "    # Terrain Following\n",
    "    if row_data['parameters']['COM_OBS_AVOID'] == 1:\n",
    "        row_data['object_avoidance'] = \"Yes\"\n",
    "    else:\n",
    "        row_data['object_avoidance'] = \"No\"\n",
    "    \n",
    "    # Stuff that I did not find\n",
    "    row_data['upload_date'] = \"\"\n",
    "    row_data['description'] = \"\"\n",
    "    row_data['gyroscope'] = \"\"\n",
    "    row_data['mag_accel'] = \"\"\n",
    "    row_data['barometer'] = \"\"\n",
    "    row_data['compass'] = \"\"\n",
    "    row_data['rating'] = \"\"\n",
    "    row_data['error'] = \"\"\n",
    "    row_data['soft_release_date'] = \"\"\n",
    "    row_data['remote_control'] = \"\"\n",
    "    row_data['waypoints'] = \"\"\n",
    "    \n",
    "    # Returning one row of data\n",
    "    return row_data\n",
    "\n",
    "\n",
    "# get_row_of_data(\"link\", ulog)"
   ]
  },
  {
   "cell_type": "code",
   "execution_count": null,
   "id": "4a9e7c30",
   "metadata": {},
   "outputs": [],
   "source": [
    "# Reading logs and extracting fields\n",
    "if BULK_PROCESS:\n",
    "    f = open('E:\\\\Purdue\\\\Spring 2023\\\\CS 590\\\\Work\\\\GitHub Issue Scraper\\\\scrape_data\\\\px4_log_links.json')\n",
    "    data = json.load(f)\n",
    "    results = []\n",
    "    failed = []\n",
    "\n",
    "    for key, value in tqdm(data.items()):\n",
    "        parsed_issue_link = urlparse(key)\n",
    "        issue_id = parsed_issue_link.path.split(\"/\")[-1]\n",
    "        if value['count'] > 0:\n",
    "            for log_link in value['log_links']:\n",
    "                parsed_log_link = urlparse(log_link)\n",
    "                log_id = parse_qs(parsed_log_link.query)\n",
    "                if 'log' in log_id:\n",
    "                    log_id = parse_qs(parsed_log_link.query)['log'][0]\n",
    "                    log_file_path = f\"E:\\\\Purdue\\\\Spring 2023\\\\CS 590\\\\Work\\\\GitHub Issue Scraper\\\\Logs\\\\{issue_id}\\\\{log_id}.ulg\"\n",
    "                    if os.path.isfile(log_file_path):\n",
    "                        try:\n",
    "                            ulog = load_ulog_file(log_file_path)\n",
    "                            results.append(get_row_of_data(log_link, ulog))\n",
    "                        except:\n",
    "                            failed.append(log_file_path)\n",
    "\n",
    "    print(f\"{len(results)} processed, {len(failed)} failed\")\n",
    "\n",
    "    df = pd.DataFrame.from_dict(results)\n",
    "    new_df = df[['link', 'upload_date', 'gps_data', 'description', 'airframe_type', 'airframe_name', 'hardware', 'gyroscope',\n",
    "           'mag_accel', 'barometer', 'compass', 'software', 'flight_duration', 'start_time', 'rating', 'error',\n",
    "           'flight_modes', 'soft_release_date', 'remote_control', 'altitude_min', 'altitude_avg', 'altitude_max', 'waypoints', 'terrain_following',\n",
    "           'object_avoidance', 'parameters']]\n",
    "    new_df.to_excel(\"./parsed_df.xlsx\")"
   ]
  },
  {
   "cell_type": "code",
   "execution_count": null,
   "id": "476a7452",
   "metadata": {},
   "outputs": [],
   "source": [
    "# # New\n",
    "ulog.get_dataset('manual_control_switches')\n",
    "\n",
    "# # Old\n",
    "# ulog.get_dataset('manual_control_setpoint')\n",
    "\n",
    "# Older\n",
    "# ulog.get_dataset('rc_channels')"
   ]
  },
  {
   "cell_type": "code",
   "execution_count": null,
   "id": "ba08a881",
   "metadata": {},
   "outputs": [],
   "source": [
    "df = pd.DataFrame(ulog.get_dataset('manual_control_setpoint').data)\n",
    "df = df[['y', 'x', 'r', 'z', 'aux1', 'aux2']]\n",
    "rc_used = False\n",
    "for (i, value) in df.std().items():\n",
    "    if value != 0:\n",
    "        rc_used = True\n",
    "        break\n",
    "rc_used"
   ]
  },
  {
   "cell_type": "code",
   "execution_count": null,
   "id": "c00033ad",
   "metadata": {},
   "outputs": [],
   "source": [
    "df.plot()\n",
    "plt.show()"
   ]
  },
  {
   "cell_type": "code",
   "execution_count": null,
   "id": "aeeb4d48",
   "metadata": {},
   "outputs": [],
   "source": [
    "df_data = ulog.get_dataset('manual_control_switches').data\n",
    "df = pd.DataFrame(df_data)\n",
    "df = df[['mode_slot', 'kill_switch']]\n",
    "df['kill_switch'] = df['kill_switch'] == 1\n",
    "flight_modes = list(df['mode_slot'].unique())\n",
    "kill_switch_engaged = True in df['kill_switch'].unique()\n",
    "print(f\"Flight Modes: {flight_modes}\")\n",
    "print(f\"Killswitch Engaged: {kill_switch_engaged}\")"
   ]
  },
  {
   "cell_type": "code",
   "execution_count": null,
   "id": "1c9a5781",
   "metadata": {},
   "outputs": [],
   "source": [
    "px4_ulog.get_configured_rc_input_names(-1)"
   ]
  },
  {
   "cell_type": "code",
   "execution_count": null,
   "id": "447b50f1",
   "metadata": {},
   "outputs": [],
   "source": [
    "ulog = load_ulog_file(\"7fa41e74-e051-4624-a891-97f72d663e55.ulg\")\n",
    "px4_ulog = PX4ULog(ulog)\n",
    "df_data = ulog.get_dataset('rc_channels').data\n",
    "df = pd.DataFrame(df_data)\n",
    "\n",
    "num_rc_channels = min(8, np.amax(df_data['channel_count']))\n",
    "channel_cols = ['channels['+str(i)+']' for i in range(num_rc_channels)]\n",
    "channel_names = [px4_ulog.get_configured_rc_input_names(i) for i in range(num_rc_channels)]\n",
    "df = df[channel_cols]\n",
    "\n",
    "rc_used = False\n",
    "for (i, value) in df.std().items():\n",
    "    if value != 0:\n",
    "        rc_used = True\n",
    "        break\n",
    "rc_used"
   ]
  },
  {
   "cell_type": "code",
   "execution_count": null,
   "id": "07f5f4a9",
   "metadata": {},
   "outputs": [],
   "source": [
    "df[['channels['+str(i)+']' for i in range(num_rc_channels)]]"
   ]
  },
  {
   "cell_type": "code",
   "execution_count": 36,
   "id": "25045f80",
   "metadata": {},
   "outputs": [],
   "source": [
    "# console messages, perf & top output\n",
    "top_data = {}\n",
    "perf_data = {}\n",
    "console_messages = []\n",
    "if 'boot_console_output' in ulog.msg_info_multiple_dict:\n",
    "    console_output = ulog.msg_info_multiple_dict['boot_console_output'][0]\n",
    "    console_output = ''.join(console_output)\n",
    "    console_messages = console_output.split(\"\\n\")\n",
    "\n",
    "for state in ['pre', 'post']:\n",
    "    if 'perf_top_'+state+'flight' in ulog.msg_info_multiple_dict:\n",
    "        current_top_data = ulog.msg_info_multiple_dict['perf_top_'+state+'flight'][0]\n",
    "        flight_data = escape('\\n'.join(current_top_data))\n",
    "        top_data['perf_top_'+state+'flight'] = current_top_data\n",
    "    if 'perf_counter_'+state+'flight' in ulog.msg_info_multiple_dict:\n",
    "        current_perf_data = ulog.msg_info_multiple_dict['perf_counter_'+state+'flight'][0]\n",
    "        flight_data = escape('\\n'.join(current_perf_data))\n",
    "        perf_data['perf_counter_'+state+'flight'] = current_perf_data\n",
    "if 'perf_top_watchdog' in ulog.msg_info_multiple_dict:\n",
    "    current_top_data = ulog.msg_info_multiple_dict['perf_top_watchdog'][0]\n",
    "    flight_data = escape('\\n'.join(current_top_data))\n",
    "    top_data['perf_top_watchdog'] = current_top_data"
   ]
  },
  {
   "cell_type": "code",
   "execution_count": 39,
   "id": "4389a477",
   "metadata": {},
   "outputs": [
    {
     "data": {
      "text/plain": [
       "['HW arch: PX4_FMU_V6C',\n",
       " 'HW type: V6C000000',\n",
       " 'HW version: 0x000',\n",
       " 'HW revision: 0x000',\n",
       " 'PX4 git-hash: 96362bfb52622a8b7a13423a28ff692d918fdce7',\n",
       " 'PX4 version: 1.14.0 80 (17694848)',\n",
       " 'OS: NuttX',\n",
       " 'OS version: Release 11.0.0 (184549631)',\n",
       " 'OS git-hash: 1ee8fb827c570f302a43ca9870c58d1ac73997d3',\n",
       " 'Build datetime: Dec 14 2022 13:13:38',\n",
       " 'Build uri: localhost',\n",
       " 'Build variant: default',\n",
       " 'Toolchain: GNU GCC, 9.3.1 20200408 (release)',\n",
       " 'PX4GUID: 0006000000003235343331315103003a0036',\n",
       " 'MCU: STM32H7[4|5]xxx, rev. V',\n",
       " 'INFO  [param] selected parameter default file /fs/mtd_params',\n",
       " \"INFO  [param] importing from '/fs/mtd_params'\",\n",
       " 'INFO  [parameters] BSON document size 2031 bytes, decoded 2031 bytes (INT32:40, FLOAT:61)',\n",
       " 'INFO  [param] selected parameter backup file /fs/microsd/parameters_backup.bson',\n",
       " 'Board architecture defaults: /etc/init.d/rc.board_arch_defaults',\n",
       " 'Board defaults: /etc/init.d/rc.board_defaults',\n",
       " 'Loading airframe: /etc/init.d/airframes/4019_x500_v2',\n",
       " \"INFO  [dataman] data manager file '/fs/microsd/dataman' size is 62560 bytes\",\n",
       " 'rgbled_ncp5623c #0 on I2C bus 1 address 0x39',\n",
       " 'INFO  [px4io] IO FW CRC match',\n",
       " 'Board sensors: /etc/init.d/rc.board_sensors',\n",
       " 'bmi055_accel #0 on SPI bus 1 rotation 4',\n",
       " 'bmi055_gyro #0 on SPI bus 1 rotation 4',\n",
       " 'icm42688p #0 on SPI bus 1 rotation 6',\n",
       " 'ms5611 #0 on I2C bus 4 (external) address 0x77',\n",
       " 'ist8310 #0 on I2C bus 4 (external) address 0xC',\n",
       " 'ist8310 #1 on I2C bus 1 (external) address 0xE rotation 10',\n",
       " 'WARN  [SPI_I2C] Already running on bus 1',\n",
       " 'ekf2 [590:237]',\n",
       " 'Starting Main GPS on /dev/ttyS0',\n",
       " 'Starting MAVLink on /dev/ttyS5',\n",
       " 'WARN  [mavlink] offboard mission init failed (-1)',\n",
       " 'INFO  [mavlink] mode: Normal, data rate: 1200 B/s on /dev/ttyS5 @ 57600B',\n",
       " 'Starting MAVLink on /dev/ttyS1',\n",
       " 'INFO  [mavlink] mode: Onboard, data rate: 2880 B/s on /dev/ttyS1 @ 57600B',\n",
       " 'INFO  [logger] logger started (mode=all)',\n",
       " 'INFO  [uavcan] Node ID 1, bitrate 1000000',\n",
       " '',\n",
       " 'NuttShell (NSH) NuttX-11.0.0',\n",
       " 'nsh> \\x1b[KINFO  [health_and_arming_checks] Preflight Fail: No manual control input\\t',\n",
       " 'INFO  [gps] u-blox firmware version: SPG 3.01',\n",
       " 'INFO  [gps] u-blox protocol version: 18.00',\n",
       " 'INFO  [gps] u-blox module: NEO-M8N-0',\n",
       " 'INFO  [health_and_arming_checks] Preflight Fail: No manual control input\\t',\n",
       " 'INFO  [health_and_arming_checks] Preflight Fail: No manual control input\\t',\n",
       " 'WARN  [mavlink] Session was closed without activity',\n",
       " 'WARN  [mavlink] stream download: seek fail',\n",
       " 'INFO  [health_and_arming_checks] Preflight Fail: No manual control input\\t',\n",
       " 'INFO  [health_and_arming_checks] Preflight Fail: No manual control input\\t',\n",
       " 'INFO  [health_and_arming_checks] Preflight Fail: No manual control input\\t',\n",
       " 'INFO  [health_and_arming_checks] Preflight Fail: No manual control input\\t',\n",
       " 'INFO  [commander] Armed by external command\\t',\n",
       " 'INFO  [logger] Start file log (type: full)',\n",
       " 'INFO  [health_and_arming_checks] Preflight Fail: No manual control input\\t',\n",
       " 'INFO  [logger] [logger] /fs/microsd/log/2023-03-14/18_36_36.ulg\\t',\n",
       " 'INFO  [logger] Opened full log file: /fs/microsd/log/2023-03-14/18_36_36.ulg',\n",
       " '']"
      ]
     },
     "execution_count": 39,
     "metadata": {},
     "output_type": "execute_result"
    }
   ],
   "source": [
    "console_messages"
   ]
  },
  {
   "cell_type": "code",
   "execution_count": 42,
   "id": "fe5252c8",
   "metadata": {
    "scrolled": false
   },
   "outputs": [
    {
     "data": {
      "text/plain": [
       "'<INFO  [gps] u-blox firmware version: SPG 3.01>; <INFO  [gps] u-blox protocol version: 18.00>; <INFO  [gps] u-blox module: NEO-M8N-0>'"
      ]
     },
     "execution_count": 42,
     "metadata": {},
     "output_type": "execute_result"
    }
   ],
   "source": [
    "\"; \".join([f\"<{message}>\" for message in console_messages if \"INFO  [gps]\" in message])"
   ]
  }
 ],
 "metadata": {
  "kernelspec": {
   "display_name": "Python [conda env:tf_gpu]",
   "language": "python",
   "name": "conda-env-tf_gpu-py"
  },
  "language_info": {
   "codemirror_mode": {
    "name": "ipython",
    "version": 3
   },
   "file_extension": ".py",
   "mimetype": "text/x-python",
   "name": "python",
   "nbconvert_exporter": "python",
   "pygments_lexer": "ipython3",
   "version": "3.9.7"
  }
 },
 "nbformat": 4,
 "nbformat_minor": 5
}
