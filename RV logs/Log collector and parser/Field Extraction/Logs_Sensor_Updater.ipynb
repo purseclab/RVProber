{
 "cells": [
  {
   "cell_type": "code",
   "execution_count": 1,
   "id": "d395c488",
   "metadata": {},
   "outputs": [],
   "source": [
    "import pandas as pd\n",
    "import json"
   ]
  },
  {
   "cell_type": "code",
   "execution_count": 2,
   "id": "f88166aa",
   "metadata": {},
   "outputs": [],
   "source": [
    "df = pd.read_hdf(\"parsed_df.hdf\")"
   ]
  },
  {
   "cell_type": "code",
   "execution_count": 4,
   "id": "27fec105",
   "metadata": {},
   "outputs": [
    {
     "name": "stdout",
     "output_type": "stream",
     "text": [
      "90\n"
     ]
    }
   ],
   "source": [
    "hw = list(df['hardware'].unique())\n",
    "hw.sort()\n",
    "print(f\"{len(hw)}\")"
   ]
  },
  {
   "cell_type": "code",
   "execution_count": 13,
   "id": "539ba529",
   "metadata": {},
   "outputs": [],
   "source": [
    "ascending_count_hw = df.groupby(['hardware'])['hardware'].count().sort_values(ascending=False).reset_index(name='count')"
   ]
  },
  {
   "cell_type": "code",
   "execution_count": 14,
   "id": "1a45116b",
   "metadata": {},
   "outputs": [],
   "source": [
    "hw_lookup = {}\n",
    "ascending_count_hw = list(ascending_count_hw['hardware'])\n",
    "for h in ascending_count_hw:\n",
    "    hw_lookup[h] = {\n",
    "        'gyroscope': \"\",\n",
    "        'mag_accel': \"\",\n",
    "        'barometer': \"\",\n",
    "        'compass': \"\"\n",
    "    }\n",
    "# with open(\"hardware_lookup.json\", \"w\") as outfile:\n",
    "#     outfile.write(json.dumps(hw_lookup, indent=4))"
   ]
  },
  {
   "cell_type": "code",
   "execution_count": 8,
   "id": "d321c095",
   "metadata": {},
   "outputs": [],
   "source": [
    "# ascending_count_hw.to_excel('hw_count.xlsx', index=False)"
   ]
  },
  {
   "cell_type": "markdown",
   "id": "cf5c56bc",
   "metadata": {},
   "source": [
    "## After manually filling the hardware_lookup.json file"
   ]
  },
  {
   "cell_type": "code",
   "execution_count": 42,
   "id": "8df3c8ba",
   "metadata": {
    "scrolled": false
   },
   "outputs": [
    {
     "name": "stdout",
     "output_type": "stream",
     "text": [
      "Updating for PX4_FMU_V2\n",
      "Updating for PX4_FMU_V5\n",
      "Updating for PX4_FMU_V4\n",
      "Updating for PX4_FMU_V4PRO\n",
      "Updating for PX4_SITL\n",
      "Updating for PX4_FMU_V3\n",
      "Updating for MODALAI_FC_V1\n",
      "Updating for NXP_FMUK66_V3\n",
      "Updating for SITL\n",
      "Updating for AEROFC_V1\n",
      "Updating for CUAV_NORA\n"
     ]
    }
   ],
   "source": [
    "hw_lookup = json.load(open(\"hardware_lookup.json\"))\n",
    "for hw in hw_lookup:\n",
    "    g = hw_lookup[hw][\"gyroscope\"]\n",
    "    m = hw_lookup[hw][\"mag_accel\"]\n",
    "    b = hw_lookup[hw][\"barometer\"]\n",
    "    c = hw_lookup[hw][\"compass\"]\n",
    "    if g or m or b or c:\n",
    "        print(f\"Updating for {hw}\")\n",
    "        hw_mask = df['hardware'] == hw\n",
    "        df.loc[hw_mask, \"gyroscope\"] = g\n",
    "        df.loc[hw_mask, \"mag_accel\"] = m\n",
    "        df.loc[hw_mask, \"barometer\"] = b\n",
    "        df.loc[hw_mask, \"compass\"] = c"
   ]
  },
  {
   "cell_type": "code",
   "execution_count": 60,
   "id": "a263714b",
   "metadata": {},
   "outputs": [],
   "source": [
    "# df.to_excel('df.xlsx', index=False, engine='xlsxwriter')"
   ]
  }
 ],
 "metadata": {
  "kernelspec": {
   "display_name": "Python [conda env:tf_gpu]",
   "language": "python",
   "name": "conda-env-tf_gpu-py"
  },
  "language_info": {
   "codemirror_mode": {
    "name": "ipython",
    "version": 3
   },
   "file_extension": ".py",
   "mimetype": "text/x-python",
   "name": "python",
   "nbconvert_exporter": "python",
   "pygments_lexer": "ipython3",
   "version": "3.9.7"
  }
 },
 "nbformat": 4,
 "nbformat_minor": 5
}
